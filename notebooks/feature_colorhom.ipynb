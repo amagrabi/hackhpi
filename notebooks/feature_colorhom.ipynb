{
 "cells": [
  {
   "cell_type": "code",
   "execution_count": 1,
   "metadata": {
    "collapsed": true
   },
   "outputs": [],
   "source": [
    "import numpy as np\n",
    "\n",
    "from scipy.ndimage import imread, generic_filter\n",
    "from scipy.misc import imresize\n",
    "\n",
    "from sklearn.cluster import KMeans\n",
    "from scipy.ndimage import imread, generic_filter\n",
    "from scipy.misc import imresize\n",
    "from mpl_toolkits.mplot3d import Axes3D\n",
    "%matplotlib inline"
   ]
  },
  {
   "cell_type": "code",
   "execution_count": 3,
   "metadata": {
    "collapsed": false
   },
   "outputs": [
    {
     "data": {
      "text/plain": [
       "1928.4703965923711"
      ]
     },
     "execution_count": 3,
     "metadata": {},
     "output_type": "execute_result"
    }
   ],
   "source": [
    "def feature_colorhom(img_path):\n",
    "    \n",
    "    img = imread(img_path)\n",
    "    \n",
    "    (x,y,c) = img.shape\n",
    "    points = img.reshape(x * y, c)\n",
    "    mat = np.mat(points)\n",
    "    \n",
    "    model = KMeans(n_clusters=2)\n",
    "    model.fit(mat)\n",
    "    labels = model.labels_\n",
    "\n",
    "    # ensure that 0 is the label for bright points\n",
    "    (center0, center1) = model.cluster_centers_\n",
    "    def average_brightness(values):\n",
    "        return np.mean(values)\n",
    "\n",
    "    def switch_labels(labels):\n",
    "        return np.array([1 - label for label in labels])\n",
    "\n",
    "    if (average_brightness(center0) < average_brightness(center1)):\n",
    "        labels = switch_labels(labels)\n",
    "    \n",
    "    labeled_img = labels.reshape(x, y)\n",
    "    \n",
    "    img_gs = imread(img_path,mode='L')\n",
    "    \n",
    "    img_mole = img_gs   # load grayscale image\n",
    "    img_mole[labeled_img==0] = 0\n",
    "    \n",
    "    img_mole_vec = np.reshape(img_mole,(1,-1))   # matrix to vector\n",
    "    img_mole_vec_rm = img_mole_vec[img_mole_vec > 0]  # remove zero elements (skin)\n",
    "\n",
    "    return np.var(img_mole_vec_rm)\n",
    "\n",
    "img_path = \"D:\\Hackathon\\mole classification\\data\\ph2\\PH2 Dataset images sorted\\IMD009.bmp\"\n",
    "feature_colorhom(img_path)\n"
   ]
  }
 ],
 "metadata": {
  "kernelspec": {
   "display_name": "Python 3",
   "language": "python",
   "name": "python3"
  },
  "language_info": {
   "codemirror_mode": {
    "name": "ipython",
    "version": 3
   },
   "file_extension": ".py",
   "mimetype": "text/x-python",
   "name": "python",
   "nbconvert_exporter": "python",
   "pygments_lexer": "ipython3",
   "version": "3.5.1"
  }
 },
 "nbformat": 4,
 "nbformat_minor": 0
}
