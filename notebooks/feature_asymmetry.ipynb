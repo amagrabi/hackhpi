{
 "cells": [
  {
   "cell_type": "code",
   "execution_count": 5,
   "metadata": {
    "collapsed": true
   },
   "outputs": [],
   "source": [
    "import numpy as np\n",
    "\n",
    "from scipy.ndimage import imread, generic_filter\n",
    "from scipy.misc import imresize\n",
    "\n",
    "from sklearn.cluster import KMeans\n",
    "from scipy.ndimage import imread, generic_filter\n",
    "from scipy.misc import imresize\n",
    "from mpl_toolkits.mplot3d import Axes3D\n",
    "%matplotlib inline"
   ]
  },
  {
   "cell_type": "code",
   "execution_count": 4,
   "metadata": {
    "collapsed": false
   },
   "outputs": [
    {
     "data": {
      "text/plain": [
       "0.11365194687251674"
      ]
     },
     "execution_count": 4,
     "metadata": {},
     "output_type": "execute_result"
    }
   ],
   "source": [
    "def feature_asymmetry(img_path):\n",
    "    \n",
    "    img = imread(img_path)\n",
    "    \n",
    "    (x,y,c) = img.shape\n",
    "    points = img.reshape(x * y, c)\n",
    "    mat = np.mat(points)\n",
    "    \n",
    "    model = KMeans(n_clusters=2)\n",
    "    model.fit(mat)\n",
    "    labels = model.labels_\n",
    "\n",
    "    # ensure that 0 is the label for bright points\n",
    "    (center0, center1) = model.cluster_centers_\n",
    "    def average_brightness(values):\n",
    "        return np.mean(values)\n",
    "\n",
    "    def switch_labels(labels):\n",
    "        return np.array([1 - label for label in labels])\n",
    "\n",
    "    if (average_brightness(center0) < average_brightness(center1)):\n",
    "        labels = switch_labels(labels)\n",
    "    \n",
    "    labeled_img = labels.reshape(x, y)\n",
    "    \n",
    "    (height, width) = labeled_img.shape\n",
    "    width_center = round(width/2)\n",
    "    labeled_img_l = labeled_img[:,1:width_center]\n",
    "    labeled_img_r = labeled_img[:,width_center+1:]\n",
    "    labeled_img_r_flip = np.fliplr(labeled_img_r)\n",
    "    labeled_img_diff = (labeled_img_l - labeled_img_r_flip) ** 2   # compute image of squared error\n",
    "    \n",
    "    return np.sum(labeled_img_diff) / (height*width)\n",
    "\n",
    "img_path = \"D:\\Hackathon\\mole classification\\data\\ph2\\PH2 Dataset images sorted\\IMD009.bmp\"\n",
    "feature_asymmetry(img_path)\n"
   ]
  }
 ],
 "metadata": {
  "kernelspec": {
   "display_name": "Python 3",
   "language": "python",
   "name": "python3"
  },
  "language_info": {
   "codemirror_mode": {
    "name": "ipython",
    "version": 3
   },
   "file_extension": ".py",
   "mimetype": "text/x-python",
   "name": "python",
   "nbconvert_exporter": "python",
   "pygments_lexer": "ipython3",
   "version": "3.5.1"
  }
 },
 "nbformat": 4,
 "nbformat_minor": 0
}
