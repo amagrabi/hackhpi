{
 "cells": [
  {
   "cell_type": "code",
   "execution_count": 59,
   "metadata": {
    "collapsed": false
   },
   "outputs": [],
   "source": [
    "import numpy as np\n",
    "\n",
    "import matplotlib.pyplot as plt\n",
    "\n",
    "import os\n",
    "from os import listdir\n",
    "from os.path import isfile, join\n",
    "\n",
    "from scipy.ndimage import imread, generic_filter\n",
    "from scipy.misc import imresize\n",
    "from scipy import stats\n",
    "\n",
    "from sklearn.cluster import KMeans\n",
    "from sklearn import linear_model\n",
    "\n",
    "from scipy.ndimage import imread, generic_filter\n",
    "from scipy.misc import imresize\n",
    "from mpl_toolkits.mplot3d import Axes3D\n",
    "%matplotlib inline"
   ]
  },
  {
   "cell_type": "code",
   "execution_count": 27,
   "metadata": {
    "collapsed": true
   },
   "outputs": [],
   "source": [
    "# extract feature 1: asymmetry\n",
    "\n",
    "def feature_asymmetry(img_path):\n",
    "    \n",
    "    img = imread(img_path)\n",
    "    \n",
    "    (x,y,c) = img.shape\n",
    "    points = img.reshape(x * y, c)\n",
    "    mat = np.mat(points)\n",
    "    \n",
    "    model = KMeans(n_clusters=2)\n",
    "    model.fit(mat)\n",
    "    labels = model.labels_\n",
    "\n",
    "    # ensure that 0 is the label for bright points\n",
    "    (center0, center1) = model.cluster_centers_\n",
    "    def average_brightness(values):\n",
    "        return np.mean(values)\n",
    "\n",
    "    def switch_labels(labels):\n",
    "        return np.array([1 - label for label in labels])\n",
    "\n",
    "    if (average_brightness(center0) < average_brightness(center1)):\n",
    "        labels = switch_labels(labels)\n",
    "    \n",
    "    labeled_img = labels.reshape(x, y)\n",
    "    \n",
    "    (height, width) = labeled_img.shape\n",
    "    width_center = width//2\n",
    "    labeled_img_l = labeled_img[:,0:width_center-1]\n",
    "    \n",
    "    # print(width)\n",
    "    # print(width_center)\n",
    "    \n",
    "    # import pdb; pdb.set_trace() # debugging starts here\n",
    "    \n",
    "    if width % 2 == 0:\n",
    "        labeled_img_r = labeled_img[:,width_center+1:]\n",
    "    else:\n",
    "        labeled_img_r = labeled_img[:,width_center+2:]    \n",
    "\n",
    "    labeled_img_r_flip = np.fliplr(labeled_img_r)\n",
    "    \n",
    "    labeled_img_diff = (labeled_img_l - labeled_img_r_flip) ** 2   # compute image of squared error\n",
    "    \n",
    "    return np.sum(labeled_img_diff) / (height*width)"
   ]
  },
  {
   "cell_type": "code",
   "execution_count": 55,
   "metadata": {
    "collapsed": true
   },
   "outputs": [],
   "source": [
    "# extract feature 2: color inhomogenity\n",
    "\n",
    "def feature_colin(img_path):\n",
    "    \n",
    "    img = imread(img_path)\n",
    "    \n",
    "    (x,y,c) = img.shape\n",
    "    points = img.reshape(x * y, c)\n",
    "    mat = np.mat(points)\n",
    "    \n",
    "    model = KMeans(n_clusters=2)\n",
    "    model.fit(mat)\n",
    "    labels = model.labels_\n",
    "\n",
    "    # ensure that 0 is the label for bright points\n",
    "    (center0, center1) = model.cluster_centers_\n",
    "    def average_brightness(values):\n",
    "        return np.mean(values)\n",
    "\n",
    "    def switch_labels(labels):\n",
    "        return np.array([1 - label for label in labels])\n",
    "\n",
    "    if (average_brightness(center0) < average_brightness(center1)):\n",
    "        labels = switch_labels(labels)\n",
    "    \n",
    "    labeled_img = labels.reshape(x, y)\n",
    "    \n",
    "    img_gs = imread(img_path,mode='L')\n",
    "    \n",
    "    img_mole = img_gs   # load grayscale image\n",
    "    img_mole[labeled_img==0] = 0\n",
    "    \n",
    "    img_mole_vec = np.reshape(img_mole,(1,-1))   # matrix to vector\n",
    "    img_mole_vec_rm = img_mole_vec[img_mole_vec > 0]  # remove zero elements (skin)\n",
    "\n",
    "    return np.var(img_mole_vec_rm)"
   ]
  },
  {
   "cell_type": "code",
   "execution_count": 28,
   "metadata": {
    "collapsed": false
   },
   "outputs": [],
   "source": [
    "# load data\n",
    "\n",
    "path_common = \"D:\\\\Hackathon\\\\mole classification\\\\data\\\\ph2 sorted\\\\common\"\n",
    "path_atypical = \"D:\\\\Hackathon\\\\mole classification\\\\data\\\\ph2 sorted\\\\atypical\"\n",
    "path_melanoma = \"D:\\\\Hackathon\\\\mole classification\\\\data\\\\ph2 sorted\\\\melanoma\"\n",
    "\n",
    "imgs_common =   [join(path_common, f)   for f in listdir(path_common)   if isfile(join(path_common, f))]\n",
    "imgs_atypical = [join(path_atypical, f) for f in listdir(path_atypical) if isfile(join(path_atypical, f))]\n",
    "imgs_melanoma = [join(path_melanoma, f) for f in listdir(path_melanoma) if isfile(join(path_melanoma, f))]\n",
    "\n",
    "imgs = imgs_common + imgs_melanoma\n",
    "\n",
    "Y_0 = np.squeeze(np.tile(0,(len(imgs_common),1)))\n",
    "Y_1 = np.squeeze(np.tile(1,(len(imgs_melanoma),1)))\n",
    "Y = np.concatenate([Y_0,Y_1])"
   ]
  },
  {
   "cell_type": "code",
   "execution_count": 30,
   "metadata": {
    "collapsed": false
   },
   "outputs": [],
   "source": [
    "X = []\n",
    "for i in range(0,len(imgs)):\n",
    "    X.append(feature_asymmetry(imgs[i]))"
   ]
  },
  {
   "cell_type": "code",
   "execution_count": 63,
   "metadata": {
    "collapsed": false
   },
   "outputs": [],
   "source": [
    "X_1 = np.asarray(X)\n",
    "X_1 = stats.zscore(X_1)"
   ]
  },
  {
   "cell_type": "code",
   "execution_count": 56,
   "metadata": {
    "collapsed": true
   },
   "outputs": [],
   "source": [
    "colins = []\n",
    "for i in range(0,len(imgs)):\n",
    "    colins.append(feature_colin(imgs[i]))"
   ]
  },
  {
   "cell_type": "code",
   "execution_count": 81,
   "metadata": {
    "collapsed": false
   },
   "outputs": [],
   "source": [
    "X_2 = np.asarray(colins)\n",
    "X_2 = stats.zscore(X_2)"
   ]
  },
  {
   "cell_type": "code",
   "execution_count": 92,
   "metadata": {
    "collapsed": false
   },
   "outputs": [],
   "source": [
    "X_all = np.vstack([X_1, X_2])"
   ]
  },
  {
   "cell_type": "code",
   "execution_count": 95,
   "metadata": {
    "collapsed": false
   },
   "outputs": [
    {
     "data": {
      "text/plain": [
       "<function ndarray.transpose>"
      ]
     },
     "execution_count": 95,
     "metadata": {},
     "output_type": "execute_result"
    }
   ],
   "source": [
    "# unfinished code until here"
   ]
  },
  {
   "cell_type": "code",
   "execution_count": 85,
   "metadata": {
    "collapsed": false
   },
   "outputs": [],
   "source": [
    "model = linear_model.LogisticRegression(C=1e5)"
   ]
  },
  {
   "cell_type": "code",
   "execution_count": 86,
   "metadata": {
    "collapsed": false
   },
   "outputs": [
    {
     "ename": "ValueError",
     "evalue": "Found arrays with inconsistent numbers of samples: [  2 120]",
     "output_type": "error",
     "traceback": [
      "\u001b[1;31m---------------------------------------------------------------------------\u001b[0m",
      "\u001b[1;31mValueError\u001b[0m                                Traceback (most recent call last)",
      "\u001b[1;32m<ipython-input-86-2e673bb4091c>\u001b[0m in \u001b[0;36m<module>\u001b[1;34m()\u001b[0m\n\u001b[0;32m      1\u001b[0m \u001b[1;31m# we create an instance of Neighbours Classifier and fit the data.\u001b[0m\u001b[1;33m\u001b[0m\u001b[1;33m\u001b[0m\u001b[0m\n\u001b[1;32m----> 2\u001b[1;33m \u001b[0mmodel\u001b[0m\u001b[1;33m.\u001b[0m\u001b[0mfit\u001b[0m\u001b[1;33m(\u001b[0m\u001b[0mX_all\u001b[0m\u001b[1;33m,\u001b[0m \u001b[0mY\u001b[0m\u001b[1;33m)\u001b[0m\u001b[1;33m\u001b[0m\u001b[0m\n\u001b[0m",
      "\u001b[1;32mC:\\Program Files (x86)\\Anaconda3\\lib\\site-packages\\sklearn\\linear_model\\logistic.py\u001b[0m in \u001b[0;36mfit\u001b[1;34m(self, X, y, sample_weight)\u001b[0m\n\u001b[0;32m   1140\u001b[0m \u001b[1;33m\u001b[0m\u001b[0m\n\u001b[0;32m   1141\u001b[0m         X, y = check_X_y(X, y, accept_sparse='csr', dtype=np.float64, \n\u001b[1;32m-> 1142\u001b[1;33m                          order=\"C\")\n\u001b[0m\u001b[0;32m   1143\u001b[0m         \u001b[0mcheck_classification_targets\u001b[0m\u001b[1;33m(\u001b[0m\u001b[0my\u001b[0m\u001b[1;33m)\u001b[0m\u001b[1;33m\u001b[0m\u001b[0m\n\u001b[0;32m   1144\u001b[0m         \u001b[0mself\u001b[0m\u001b[1;33m.\u001b[0m\u001b[0mclasses_\u001b[0m \u001b[1;33m=\u001b[0m \u001b[0mnp\u001b[0m\u001b[1;33m.\u001b[0m\u001b[0munique\u001b[0m\u001b[1;33m(\u001b[0m\u001b[0my\u001b[0m\u001b[1;33m)\u001b[0m\u001b[1;33m\u001b[0m\u001b[0m\n",
      "\u001b[1;32mC:\\Program Files (x86)\\Anaconda3\\lib\\site-packages\\sklearn\\utils\\validation.py\u001b[0m in \u001b[0;36mcheck_X_y\u001b[1;34m(X, y, accept_sparse, dtype, order, copy, force_all_finite, ensure_2d, allow_nd, multi_output, ensure_min_samples, ensure_min_features, y_numeric, warn_on_dtype, estimator)\u001b[0m\n\u001b[0;32m    518\u001b[0m         \u001b[0my\u001b[0m \u001b[1;33m=\u001b[0m \u001b[0my\u001b[0m\u001b[1;33m.\u001b[0m\u001b[0mastype\u001b[0m\u001b[1;33m(\u001b[0m\u001b[0mnp\u001b[0m\u001b[1;33m.\u001b[0m\u001b[0mfloat64\u001b[0m\u001b[1;33m)\u001b[0m\u001b[1;33m\u001b[0m\u001b[0m\n\u001b[0;32m    519\u001b[0m \u001b[1;33m\u001b[0m\u001b[0m\n\u001b[1;32m--> 520\u001b[1;33m     \u001b[0mcheck_consistent_length\u001b[0m\u001b[1;33m(\u001b[0m\u001b[0mX\u001b[0m\u001b[1;33m,\u001b[0m \u001b[0my\u001b[0m\u001b[1;33m)\u001b[0m\u001b[1;33m\u001b[0m\u001b[0m\n\u001b[0m\u001b[0;32m    521\u001b[0m \u001b[1;33m\u001b[0m\u001b[0m\n\u001b[0;32m    522\u001b[0m     \u001b[1;32mreturn\u001b[0m \u001b[0mX\u001b[0m\u001b[1;33m,\u001b[0m \u001b[0my\u001b[0m\u001b[1;33m\u001b[0m\u001b[0m\n",
      "\u001b[1;32mC:\\Program Files (x86)\\Anaconda3\\lib\\site-packages\\sklearn\\utils\\validation.py\u001b[0m in \u001b[0;36mcheck_consistent_length\u001b[1;34m(*arrays)\u001b[0m\n\u001b[0;32m    174\u001b[0m     \u001b[1;32mif\u001b[0m \u001b[0mlen\u001b[0m\u001b[1;33m(\u001b[0m\u001b[0muniques\u001b[0m\u001b[1;33m)\u001b[0m \u001b[1;33m>\u001b[0m \u001b[1;36m1\u001b[0m\u001b[1;33m:\u001b[0m\u001b[1;33m\u001b[0m\u001b[0m\n\u001b[0;32m    175\u001b[0m         raise ValueError(\"Found arrays with inconsistent numbers of samples: \"\n\u001b[1;32m--> 176\u001b[1;33m                          \"%s\" % str(uniques))\n\u001b[0m\u001b[0;32m    177\u001b[0m \u001b[1;33m\u001b[0m\u001b[0m\n\u001b[0;32m    178\u001b[0m \u001b[1;33m\u001b[0m\u001b[0m\n",
      "\u001b[1;31mValueError\u001b[0m: Found arrays with inconsistent numbers of samples: [  2 120]"
     ]
    }
   ],
   "source": [
    "# we create an instance of Neighbours Classifier and fit the data.\n",
    "model.fit(X_all, Y)"
   ]
  }
 ],
 "metadata": {
  "kernelspec": {
   "display_name": "Python 3",
   "language": "python",
   "name": "python3"
  },
  "language_info": {
   "codemirror_mode": {
    "name": "ipython",
    "version": 3
   },
   "file_extension": ".py",
   "mimetype": "text/x-python",
   "name": "python",
   "nbconvert_exporter": "python",
   "pygments_lexer": "ipython3",
   "version": "3.5.1"
  }
 },
 "nbformat": 4,
 "nbformat_minor": 0
}
